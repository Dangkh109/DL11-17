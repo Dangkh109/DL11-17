{
 "cells": [
  {
   "cell_type": "code",
   "execution_count": 1,
   "metadata": {
    "collapsed": true
   },
   "outputs": [],
   "source": [
    "import numpy as np\n",
    "import matplotlib.pyplot as plt\n",
    "from sklearn import neighbors, datasets"
   ]
  },
  {
   "cell_type": "code",
   "execution_count": 31,
   "metadata": {
    "collapsed": false
   },
   "outputs": [
    {
     "name": "stdout",
     "output_type": "stream",
     "text": [
      "Number of classes: 3\n",
      "Number of data points: 150\n",
      "\n",
      "Samples from class 0:\n",
      "[[ 5.1  3.5  1.4  0.2]\n",
      " [ 4.9  3.   1.4  0.2]\n",
      " [ 4.7  3.2  1.3  0.2]\n",
      " [ 4.6  3.1  1.5  0.2]\n",
      " [ 5.   3.6  1.4  0.2]]\n",
      "\n",
      "Samples from class 1:\n",
      "[[ 7.   3.2  4.7  1.4]\n",
      " [ 6.4  3.2  4.5  1.5]\n",
      " [ 6.9  3.1  4.9  1.5]\n",
      " [ 5.5  2.3  4.   1.3]\n",
      " [ 6.5  2.8  4.6  1.5]]\n",
      "\n",
      "Samples from class 2:\n",
      "[[ 6.3  3.3  6.   2.5]\n",
      " [ 5.8  2.7  5.1  1.9]\n",
      " [ 7.1  3.   5.9  2.1]\n",
      " [ 6.3  2.9  5.6  1.8]\n",
      " [ 6.5  3.   5.8  2.2]]\n",
      "(150,)\n"
     ]
    }
   ],
   "source": [
    "iris = datasets.load_iris()\n",
    "iris_X = iris.data\n",
    "iris_y = iris.target\n",
    "print 'Number of classes: %d' %len(np.unique(iris_y))\n",
    "print 'Number of data points: %d' %len(iris_y)\n",
    "\n",
    "\n",
    "X0 = iris_X[iris_y == 0,:]\n",
    "X00 = iris_X[iris_y == 0,:2]\n",
    "print '\\nSamples from class 0:\\n', X0[:5,:]\n",
    "\n",
    "X1 = iris_X[iris_y == 1,:]\n",
    "X11 = iris_X[iris_y == 1,:2]\n",
    "print '\\nSamples from class 1:\\n', X1[:5,:]\n",
    "\n",
    "X2 = iris_X[iris_y == 2,:]\n",
    "X22 = iris_X[iris_y == 2,:2]\n",
    "print '\\nSamples from class 2:\\n', X2[:5,:]\n",
    "\n",
    "\n",
    "X = np.concatenate((X00, X11, X22), axis = 0)\n",
    "\n",
    "N = len(iris_y)/3\n",
    "\n",
    "\n",
    "original_label = np.asarray([0]*N + [1]*N + [2]*N).T\n",
    "print original_label.shape\n"
   ]
  },
  {
   "cell_type": "code",
   "execution_count": 33,
   "metadata": {
    "collapsed": false
   },
   "outputs": [
    {
     "data": {
      "image/png": "[encoded data removed]",
      "text/plain": [
       "<matplotlib.figure.Figure at 0x1176b9cd0>"
      ]
     },
     "metadata": {},
     "output_type": "display_data"
    }
   ],
   "source": [
    "def kNN_display(X, label):\n",
    "    K = np.amax(label) + 1\n",
    "    X00 = X[label == 0, :]\n",
    "    X11 = X[label == 1, :]\n",
    "    X22 = X[label == 2, :]\n",
    "    \n",
    "    plt.plot(X00[:, 0], X00[:, 1], 'b^', markersize = 4, alpha = .8)\n",
    "    plt.plot(X11[:, 0], X11[:, 1], 'go', markersize = 4, alpha = .8)\n",
    "    plt.plot(X22[:, 0], X22[:, 1], 'rs', markersize = 4, alpha = .8)\n",
    "\n",
    "    plt.axis('equal')\n",
    "    plt.plot()\n",
    "    plt.show()\n",
    "    \n",
    "kNN_display(X, original_label)"
   ]
  },
  {
   "cell_type": "code",
   "execution_count": 3,
   "metadata": {
    "collapsed": false
   },
   "outputs": [
    {
     "name": "stdout",
     "output_type": "stream",
     "text": [
      "Training size: 100\n",
      "Test size    : 50\n"
     ]
    }
   ],
   "source": [
    "from sklearn.model_selection import train_test_split\n",
    "X_train, X_test, y_train, y_test = train_test_split(\n",
    "     iris_X, iris_y, test_size=50)\n",
    "\n",
    "print \"Training size: %d\" %len(y_train)\n",
    "print \"Test size    : %d\" %len(y_test)"
   ]
  },
  {
   "cell_type": "code",
   "execution_count": 4,
   "metadata": {
    "collapsed": false
   },
   "outputs": [
    {
     "name": "stdout",
     "output_type": "stream",
     "text": [
      "Print results for 20 test data points:\n",
      "Predicted labels:  [2 2 2 0 0 2 1 0 0 0 1 0 2 0 1 1 0 0 0 0]\n",
      "Ground truth    :  [2 2 2 0 0 2 1 0 0 0 1 0 2 0 1 1 0 0 0 0]\n"
     ]
    }
   ],
   "source": [
    "clf = neighbors.KNeighborsClassifier(n_neighbors = 1, p = 2)\n",
    "clf.fit(X_train, y_train)\n",
    "y_pred = clf.predict(X_test)\n",
    "\n",
    "print \"Print results for 20 test data points:\"\n",
    "print \"Predicted labels: \", y_pred[20:40]\n",
    "print \"Ground truth    : \", y_test[20:40]"
   ]
  },
  {
   "cell_type": "code",
   "execution_count": 7,
   "metadata": {
    "collapsed": true
   },
   "outputs": [],
   "source": [
    "from sklearn.metrics import accuracy_score\n",
    "clf = neighbors.KNeighborsClassifier(n_neighbors = 10, p = 2)\n",
    "clf.fit(X_train, y_train)\n",
    "y_pred = clf.predict(X_test)"
   ]
  },
  {
   "cell_type": "code",
   "execution_count": 8,
   "metadata": {
    "collapsed": false
   },
   "outputs": [
    {
     "name": "stdout",
     "output_type": "stream",
     "text": [
      "Accuracy of 10NN with major voting: 98.00 %\n"
     ]
    }
   ],
   "source": [
    "print \"Accuracy of 10NN with major voting: %.2f %%\" %(100*accuracy_score(y_test, y_pred))"
   ]
  },
  {
   "cell_type": "code",
   "execution_count": null,
   "metadata": {
    "collapsed": true
   },
   "outputs": [],
   "source": []
  }
 ],
 "metadata": {
  "kernelspec": {
   "display_name": "Python 2",
   "language": "python",
   "name": "python2"
  },
  "language_info": {
   "codemirror_mode": {
    "name": "ipython",
    "version": 2
   },
   "file_extension": ".py",
   "mimetype": "text/x-python",
   "name": "python",
   "nbconvert_exporter": "python",
   "pygments_lexer": "ipython2",
   "version": "2.7.13"
  }
 },
 "nbformat": 4,
 "nbformat_minor": 2
}
